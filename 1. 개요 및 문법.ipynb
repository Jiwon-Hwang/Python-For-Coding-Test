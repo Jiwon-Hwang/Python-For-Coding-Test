{
 "cells": [
  {
   "cell_type": "markdown",
   "metadata": {},
   "source": [
    "## [기본 문법]"
   ]
  },
  {
   "cell_type": "markdown",
   "metadata": {},
   "source": [
    "### 지수 표현 방식\n",
    "* e or E 뒤에 오는 수 : 10의 지수부 (10의 n승)\n",
    "* ex. 1e9 : 10의 9제곱\n",
    "> 보통 **무한**을 나타내는 변수로 **INF = int(1e9)** 형태로 사용"
   ]
  },
  {
   "cell_type": "code",
   "execution_count": 1,
   "metadata": {},
   "outputs": [
    {
     "name": "stdout",
     "output_type": "stream",
     "text": [
      "1000000000.0 <class 'float'>\n",
      "732.5\n",
      "3.954\n"
     ]
    }
   ],
   "source": [
    "# 1,000,000,000의 지수 표현 방식\n",
    "a = 1e9\n",
    "print(a, type(a))\n",
    "\n",
    "# 732.5\n",
    "a = 73.25e1\n",
    "print(a)\n",
    "\n",
    "# 3.954\n",
    "a = 3954e-3\n",
    "print(a)"
   ]
  },
  {
   "cell_type": "code",
   "execution_count": 2,
   "metadata": {},
   "outputs": [
    {
     "name": "stdout",
     "output_type": "stream",
     "text": [
      "1000000000\n"
     ]
    }
   ],
   "source": [
    "INF = int(1e9)\n",
    "print(INF) # 10억"
   ]
  },
  {
   "cell_type": "markdown",
   "metadata": {},
   "source": [
    "### 실수형 더 알아보기\n",
    "* 컴퓨터 : 실수 정보를 표현하는 정확도에 한계 있음 (2진수 체계에서는 0.9와 같은 실수 정확한 표현 방법 없음)\n",
    "* 따라서 원하는 결과를 얻기 위해 **round()**함수 주로 이용"
   ]
  },
  {
   "cell_type": "code",
   "execution_count": 3,
   "metadata": {},
   "outputs": [
    {
     "name": "stdout",
     "output_type": "stream",
     "text": [
      "0.8999999999999999\n",
      "False\n"
     ]
    }
   ],
   "source": [
    "a = 0.3 + 0.6\n",
    "print(a)\n",
    "\n",
    "if a == 0.9:\n",
    "    print(True)\n",
    "else:\n",
    "    print(False)"
   ]
  },
  {
   "cell_type": "code",
   "execution_count": 4,
   "metadata": {},
   "outputs": [
    {
     "name": "stdout",
     "output_type": "stream",
     "text": [
      "0.9\n",
      "True\n"
     ]
    }
   ],
   "source": [
    "# round() : 반올림 함수\n",
    "a = 0.3 + 0.6\n",
    "print(round(a, 4)) # 소수점 아래 4번째 자리까지 표현 => 즉, 5번째 자리에서 반올림\n",
    "\n",
    "if round(a, 4) == 0.9:\n",
    "    print(True)\n",
    "else:\n",
    "    print(False)"
   ]
  },
  {
   "cell_type": "markdown",
   "metadata": {},
   "source": [
    "### 리스트 컴프리헨션 (good ex)"
   ]
  },
  {
   "cell_type": "code",
   "execution_count": 5,
   "metadata": {},
   "outputs": [
    {
     "name": "stdout",
     "output_type": "stream",
     "text": [
      "[[0, 0, 0], [0, 0, 0], [0, 0, 0], [0, 0, 0]]\n"
     ]
    }
   ],
   "source": [
    "# 3 x 4 크기의 2차원 리스트 초기화\n",
    "n = 4\n",
    "m = 3\n",
    "array = [[0] * m for _ in range(n)]\n",
    "print(array)"
   ]
  },
  {
   "cell_type": "markdown",
   "metadata": {},
   "source": [
    "### 리스트 컴프리헨션 (bad ex)"
   ]
  },
  {
   "cell_type": "code",
   "execution_count": 6,
   "metadata": {},
   "outputs": [
    {
     "name": "stdout",
     "output_type": "stream",
     "text": [
      "[[0, 0, 0], [0, 0, 0], [0, 0, 0], [0, 0, 0]]\n",
      "[[0, 5, 0], [0, 5, 0], [0, 5, 0], [0, 5, 0]]\n"
     ]
    }
   ],
   "source": [
    "n = 4\n",
    "m = 3\n",
    "array = [[0] * m] * n # 길이가 m인 1차원 리스트의 주소값을 n번 복제 => 즉, 4개의 리스트들이 같은 reference 갖게 됨\n",
    "print(array)\n",
    "\n",
    "array[1][1] = 5 # 4개의 리스트가 모두 참조됨!\n",
    "print(array)"
   ]
  },
  {
   "cell_type": "markdown",
   "metadata": {},
   "source": [
    "### 리스트에서 특정 값의 원소를 중복하여 모두 제거하기\n",
    "* remove() : 여러 개가 해당되어도 한 개만 제거"
   ]
  },
  {
   "cell_type": "code",
   "execution_count": 7,
   "metadata": {},
   "outputs": [
    {
     "name": "stdout",
     "output_type": "stream",
     "text": [
      "[1, 2, 4]\n"
     ]
    }
   ],
   "source": [
    "a = [1, 2, 3, 4, 5, 5, 5]\n",
    "remove_set = {3, 5} # set : 집합 자료형\n",
    "\n",
    "# remove_list에 포함되지 않은 값만을 저장\n",
    "result = [i for i in a if i not in remove_set] # 제거 집합에 들어있지 않은 애들만 result에 다시 저장\n",
    "print(result)"
   ]
  },
  {
   "cell_type": "markdown",
   "metadata": {},
   "source": [
    "### 집합 자료형(set) 초기화 방법 2가지"
   ]
  },
  {
   "cell_type": "code",
   "execution_count": 8,
   "metadata": {},
   "outputs": [
    {
     "name": "stdout",
     "output_type": "stream",
     "text": [
      "{1, 2, 3, 4, 5}\n",
      "{1, 2, 3, 4, 5}\n"
     ]
    }
   ],
   "source": [
    "# set()\n",
    "data = set([1, 1, 2, 3, 4, 4, 5])\n",
    "print(data)\n",
    "\n",
    "# {~~~}\n",
    "data = {1, 1, 2, 3, 4, 4, 5}\n",
    "print(data)"
   ]
  },
  {
   "cell_type": "code",
   "execution_count": 9,
   "metadata": {},
   "outputs": [
    {
     "name": "stdout",
     "output_type": "stream",
     "text": [
      "<class 'dict'>\n"
     ]
    }
   ],
   "source": [
    "# cf. 그냥 {}만 하면 dict\n",
    "data = {}\n",
    "print(type(data))"
   ]
  },
  {
   "cell_type": "markdown",
   "metadata": {},
   "source": [
    "### 집합 자료형 관련 함수"
   ]
  },
  {
   "cell_type": "code",
   "execution_count": 10,
   "metadata": {},
   "outputs": [
    {
     "name": "stdout",
     "output_type": "stream",
     "text": [
      "{1, 2, 3}\n",
      "{1, 2, 3, 4}\n",
      "{1, 2, 3, 4, 5, 6}\n",
      "{1, 2, 4, 5, 6}\n"
     ]
    }
   ],
   "source": [
    "data = set([1, 2, 3])\n",
    "print(data)\n",
    "\n",
    "# 새로운 원소 1개 추가  : add()\n",
    "data.add(4)\n",
    "print(data)\n",
    "\n",
    "# 새로운 원소 여러 개 추가 : update()\n",
    "data.update([5, 6])\n",
    "print(data)\n",
    "\n",
    "# 특정한 값을 갖는 원소 삭제 : remove()\n",
    "data.remove(3)\n",
    "print(data)"
   ]
  },
  {
   "cell_type": "markdown",
   "metadata": {},
   "source": [
    "### 빠르게 input data 입력 받기\n",
    "* 사용자로부터 입력을 최대한 빠르게 받아야 할 때\n",
    "* **sys.stdin.readline()** 함수 이용\n",
    "* 단, **rstrip()** 함수도 함께 이용 => 입력 후 enter 가 입력되므로  \n",
    "> **sys.stdin.readline().rstrip()**  \n",
    "\n",
    "  \n",
    "* BUT, 주피터에서는 stdin이 제대로 구성되어 있지 않아, 입력을 받지 못하고 항상 빈 문자열('')로 반환! ==> **input()** 사용할 것"
   ]
  },
  {
   "cell_type": "code",
   "execution_count": 14,
   "metadata": {},
   "outputs": [
    {
     "data": {
      "text/plain": [
       "''"
      ]
     },
     "execution_count": 14,
     "metadata": {},
     "output_type": "execute_result"
    }
   ],
   "source": [
    "import sys\n",
    "\n",
    "a = sys.stdin.readline().rstrip()\n",
    "a"
   ]
  },
  {
   "cell_type": "markdown",
   "metadata": {},
   "source": [
    "### 파이썬의 pass 키워드\n",
    "* 조건문의 값이 참(True)이라고 해도 **아무것도 처리하고 싶지 않을 때 pass 키워드 사용**\n",
    "* ex. 디버깅 과정에서 일단 if~else 형태만 만들어 놓고 조건문 처리 부분은 비워놓을 때"
   ]
  },
  {
   "cell_type": "code",
   "execution_count": 15,
   "metadata": {},
   "outputs": [],
   "source": [
    "score = 85\n",
    "\n",
    "if score >= 80:\n",
    "    pass # 나중에 작성할 코드\n",
    "else:\n",
    "    print(\"~~\")\n"
   ]
  },
  {
   "cell_type": "markdown",
   "metadata": {},
   "source": [
    "### 조건부 표현식 (Conditional Expression)\n",
    "* if~else문을 한 줄에 작성\n",
    "* 조건문 처리 부분(결과)을 먼저 앞에 쓰고 뒤에 if~else 쓰기"
   ]
  },
  {
   "cell_type": "code",
   "execution_count": 16,
   "metadata": {},
   "outputs": [
    {
     "name": "stdout",
     "output_type": "stream",
     "text": [
      "Success\n"
     ]
    }
   ],
   "source": [
    "score = 85\n",
    "result = \"Success\" if score >= 80 else \"Fail\" # else : result = \"Fail\"\n",
    "print(result)"
   ]
  },
  {
   "cell_type": "markdown",
   "metadata": {},
   "source": [
    "### global 키워드 (전역 변수)\n",
    "* 함수 안에서 global 키워드로 변수를 지정하면 해당 함수에서는 지역 변수를 만들지 않고, **함수 바깥에 선언된 변수를 바로 참조**\n",
    "> 즉, 함수 안에서 함수 밖에 선언된 변수를 가져와서 쓰고 싶을 때!"
   ]
  },
  {
   "cell_type": "code",
   "execution_count": 17,
   "metadata": {},
   "outputs": [
    {
     "name": "stdout",
     "output_type": "stream",
     "text": [
      "15\n"
     ]
    }
   ],
   "source": [
    "# ex1. 일반 변수\n",
    "a = 8\n",
    "\n",
    "def func():\n",
    "    global a\n",
    "    a += 7\n",
    "\n",
    "func()\n",
    "print(a)"
   ]
  },
  {
   "cell_type": "code",
   "execution_count": 18,
   "metadata": {},
   "outputs": [
    {
     "name": "stdout",
     "output_type": "stream",
     "text": [
      "[1, 2, 7]\n"
     ]
    }
   ],
   "source": [
    "# ex2. 리스트 => global 키워드 없이 바깥의 리스트를 함수 내부에서 참조 가능!\n",
    "a = [1, 2, 3]\n",
    "\n",
    "def func():\n",
    "    a[2] = 7\n",
    "\n",
    "func()\n",
    "print(a)"
   ]
  },
  {
   "cell_type": "markdown",
   "metadata": {},
   "source": [
    "### 람다 표현식"
   ]
  },
  {
   "cell_type": "code",
   "execution_count": 19,
   "metadata": {},
   "outputs": [
    {
     "name": "stdout",
     "output_type": "stream",
     "text": [
      "[('이순신', 32), ('홍길동', 50), ('아무개', 74)]\n",
      "[('이순신', 32), ('홍길동', 50), ('아무개', 74)]\n"
     ]
    }
   ],
   "source": [
    "# ex1. 정렬 등의 내장 함수에서 자주 사용\n",
    "array = [('홍길동', 50), ('이순신', 32), ('아무개', 74)]\n",
    "\n",
    "def my_key(x):\n",
    "    return x[1]\n",
    "\n",
    "print(sorted(array, key=my_key)) \n",
    "print(sorted(array, key=lambda x : x[1])) # 위와 동일"
   ]
  },
  {
   "cell_type": "code",
   "execution_count": 20,
   "metadata": {},
   "outputs": [
    {
     "name": "stdout",
     "output_type": "stream",
     "text": [
      "[7, 9, 11, 13, 15]\n"
     ]
    }
   ],
   "source": [
    "# ex2. 여러 개의 리스트에 적용 (map : lambda에 두 개의 인자를 넘기고 싶을 때도 사용)\n",
    "list1 = [1,2,3,4,5]\n",
    "list2 = [6,7,8,9,10]\n",
    "\n",
    "result = map(lambda a, b: a+b, list1, list2) # a : list1의 각 원소, b : list2의 각 원소 => 하나씩 가져오기 반복\n",
    "\n",
    "print(list(result))"
   ]
  },
  {
   "cell_type": "markdown",
   "metadata": {},
   "source": [
    "## [유용한 내장 함수]\n",
    "* sum()\n",
    "* min(), max()\n",
    "* **eval()** : 매개변수로 받은 **수식을 문자열로 받아서 실행**해주는 함수"
   ]
  },
  {
   "cell_type": "code",
   "execution_count": 21,
   "metadata": {},
   "outputs": [
    {
     "name": "stdout",
     "output_type": "stream",
     "text": [
      "6\n",
      "1 3\n",
      "56\n"
     ]
    }
   ],
   "source": [
    "result = sum([1,2,3])\n",
    "print(result)\n",
    "\n",
    "min_result = min(1,2,3)\n",
    "max_result = max(1,2,3)\n",
    "print(min_result, max_result)\n",
    "\n",
    "result = eval(\"(3+5)*7\") # 문자열로 된 수식을 처리\n",
    "print(result)"
   ]
  },
  {
   "cell_type": "markdown",
   "metadata": {},
   "source": [
    "## [유용한 라이브러리]\n",
    "### 1. itertools\n",
    "* 반복되는 형태의 데이터 처리 기능 제공. \n",
    "* **순열과 조합** 라이브러리 제공  \n",
    "  \n",
    "### 2. heapq\n",
    "* **힙(heap)** 기능 제공\n",
    "* **우선순위 큐** 기능 구현 위해 사용  \n",
    "\n",
    "### 3. bisect\n",
    "* **이진 탐색(Binary Search)** 기능 제공  \n",
    "\n",
    "### 4. collections\n",
    "* **덱(deque), 카운터(Counter)** 등의 유용한 자료구조 포함\n",
    "* Counter : 데이터의 개수를 셀 때 유용"
   ]
  },
  {
   "cell_type": "markdown",
   "metadata": {},
   "source": [
    "### 순열과 조합 (permutations & combinations)\n",
    "* 순열 : from itertools import **permutations**\n",
    "* 조합 : from itertools import **combinations**\n",
    "* 중복 순열 : from itertools import **product**\n",
    "* 중복 조합 : from itertools import **combinations_with_replacement**"
   ]
  },
  {
   "cell_type": "code",
   "execution_count": 22,
   "metadata": {},
   "outputs": [
    {
     "name": "stdout",
     "output_type": "stream",
     "text": [
      "[('A', 'B', 'C'), ('A', 'C', 'B'), ('B', 'A', 'C'), ('B', 'C', 'A'), ('C', 'A', 'B'), ('C', 'B', 'A')]\n"
     ]
    }
   ],
   "source": [
    "# 순열\n",
    "from itertools import permutations\n",
    "\n",
    "data = ['A', 'B', 'C'] \n",
    "\n",
    "result = list(permutations(data, 3)) # 모든 순열 구하기. list()로 형변환하여 출력 => 3P3\n",
    "print(result)"
   ]
  },
  {
   "cell_type": "code",
   "execution_count": 23,
   "metadata": {},
   "outputs": [
    {
     "name": "stdout",
     "output_type": "stream",
     "text": [
      "[('A', 'B'), ('A', 'C'), ('B', 'C')]\n"
     ]
    }
   ],
   "source": [
    "# 조합\n",
    "from itertools import combinations\n",
    "\n",
    "data = ['A', 'B', 'C'] \n",
    "\n",
    "result = list(combinations(data, 2)) # 모든 조합 구하기. list()로 형변환하여 출력 => 3C2\n",
    "print(result)"
   ]
  },
  {
   "cell_type": "code",
   "execution_count": 25,
   "metadata": {},
   "outputs": [
    {
     "name": "stdout",
     "output_type": "stream",
     "text": [
      "[('A', 'A'), ('A', 'B'), ('A', 'C'), ('B', 'A'), ('B', 'B'), ('B', 'C'), ('C', 'A'), ('C', 'B'), ('C', 'C')]\n"
     ]
    }
   ],
   "source": [
    "# 중복 순열\n",
    "from itertools import product\n",
    "\n",
    "data = ['A', 'B', 'C'] \n",
    "\n",
    "result = list(product(data, repeat=2)) # 2개를 뽑는 모든 순열 구하기 (단, 중복 허용) => 3 x 3\n",
    "print(result)"
   ]
  },
  {
   "cell_type": "code",
   "execution_count": 27,
   "metadata": {},
   "outputs": [
    {
     "name": "stdout",
     "output_type": "stream",
     "text": [
      "[('A', 'A'), ('A', 'B'), ('A', 'C'), ('B', 'B'), ('B', 'C'), ('C', 'C')]\n"
     ]
    }
   ],
   "source": [
    "# 중복 순열\n",
    "from itertools import combinations_with_replacement\n",
    "\n",
    "data = ['A', 'B', 'C'] \n",
    "\n",
    "result = list(combinations_with_replacement(data, 2)) # 2개를 뽑는 모든 조합 구하기 (단, 중복 허용)\n",
    "print(result)\n",
    "\n",
    "# 순열이므로 순서 바뀌어도 동일한 상황! (중복을 허용하더라도)"
   ]
  },
  {
   "cell_type": "markdown",
   "metadata": {},
   "source": [
    "### collections - Counter\n",
    "* 별도의 설치 없이 import 가능\n",
    "* 데이터의 개수를 셀 때 주로 사용 (count)"
   ]
  },
  {
   "cell_type": "code",
   "execution_count": 28,
   "metadata": {},
   "outputs": [
    {
     "data": {
      "text/plain": [
       "Counter({'h': 1, 'e': 1, 'l': 3, 'o': 2, ' ': 1, 'w': 1, 'r': 1, 'd': 1})"
      ]
     },
     "execution_count": 28,
     "metadata": {},
     "output_type": "execute_result"
    }
   ],
   "source": [
    "# 각 알파벳의 개수 세기\n",
    "\n",
    "from collections import Counter\n",
    "\n",
    "Counter('hello world')"
   ]
  },
  {
   "cell_type": "code",
   "execution_count": 31,
   "metadata": {},
   "outputs": [
    {
     "data": {
      "text/plain": [
       "Counter({'h': 1, 'e': 1, 'l': 3, 'o': 2, ' ': 1, 'w': 1, 'r': 1, 'd': 1})"
      ]
     },
     "execution_count": 31,
     "metadata": {},
     "output_type": "execute_result"
    }
   ],
   "source": [
    "# cf\n",
    "\n",
    "import collections\n",
    "\n",
    "collections.Counter('hello world')"
   ]
  },
  {
   "cell_type": "code",
   "execution_count": 29,
   "metadata": {},
   "outputs": [
    {
     "data": {
      "text/plain": [
       "[('l', 3),\n",
       " ('o', 2),\n",
       " ('h', 1),\n",
       " ('e', 1),\n",
       " (' ', 1),\n",
       " ('w', 1),\n",
       " ('r', 1),\n",
       " ('d', 1)]"
      ]
     },
     "execution_count": 29,
     "metadata": {},
     "output_type": "execute_result"
    }
   ],
   "source": [
    "# 데이터의 개수가 많은 순서대로 개수 출력\n",
    "\n",
    "Counter('hello world').most_common()"
   ]
  },
  {
   "cell_type": "code",
   "execution_count": 30,
   "metadata": {},
   "outputs": [
    {
     "data": {
      "text/plain": [
       "[('l', 3), ('o', 2)]"
      ]
     },
     "execution_count": 30,
     "metadata": {},
     "output_type": "execute_result"
    }
   ],
   "source": [
    "# 가장 개수가 많은 순서대로 k개 출력\n",
    "\n",
    "Counter('hello world').most_common(2)"
   ]
  },
  {
   "cell_type": "markdown",
   "metadata": {},
   "source": [
    "### collections - deque\n",
    "* 리스트와 방식이 매우 비슷\n",
    "* 큐 + 스택 => **양방향성**\n",
    "* iterable 데이터를 인자로 받아서 deque 생성\n",
    "* **maxlen** 인자를 추가하면 **deque 사이즈 고정**하여 생성 가능"
   ]
  },
  {
   "cell_type": "code",
   "execution_count": 32,
   "metadata": {},
   "outputs": [
    {
     "name": "stdout",
     "output_type": "stream",
     "text": [
      "deque(['a', 'b', 'c', 'd'])\n",
      "deque([1, 2, 3, 4])\n"
     ]
    }
   ],
   "source": [
    "# deque 생성\n",
    "\n",
    "import collections\n",
    "\n",
    "data = ['a', 'b', 'c', 'd']\n",
    "\n",
    "deque_data1 = collections.deque(data)\n",
    "\n",
    "deque_data2 = collections.deque([1, 2, 3, 4])\n",
    "\n",
    "print(deque_data1)\n",
    "print(deque_data2)"
   ]
  },
  {
   "cell_type": "code",
   "execution_count": 33,
   "metadata": {},
   "outputs": [
    {
     "name": "stdout",
     "output_type": "stream",
     "text": [
      "deque(['b', 'c', 'd'], maxlen=3)\n"
     ]
    }
   ],
   "source": [
    "# deque size 고정 => maxlen\n",
    "\n",
    "deque_data = collections.deque(data, maxlen=3) # 크기 3으로 고정\n",
    "\n",
    "print(deque_data) # 꽉차면 맨 앞 데이터부터 삭제됨 "
   ]
  },
  {
   "cell_type": "code",
   "execution_count": 34,
   "metadata": {},
   "outputs": [
    {
     "name": "stdout",
     "output_type": "stream",
     "text": [
      "append example\n",
      "deque(['a', 'b', 'c', 'd', 'e'])\n",
      "deque(['z', 'a', 'b', 'c', 'd', 'e'])\n"
     ]
    }
   ],
   "source": [
    "# 데이터 추가 (1개 요소 추가) => append, appendleft\n",
    "\n",
    "basedata = ['a','b','c','d']\n",
    " \n",
    "dequedata = collections.deque(basedata)\n",
    " \n",
    "print(\"append example\")\n",
    " \n",
    "dequedata.append('e') # default : 오른쪽에 추가\n",
    " \n",
    "print(dequedata)\n",
    " \n",
    "dequedata.appendleft('z')\n",
    " \n",
    "print(dequedata)"
   ]
  },
  {
   "cell_type": "code",
   "execution_count": 37,
   "metadata": {},
   "outputs": [
    {
     "name": "stdout",
     "output_type": "stream",
     "text": [
      "extend example\n",
      "deque(['z', 'a', 'b', 'c', 'd', 'e', 'z', 'k', 'e', 'r'])\n",
      "deque(['r', 'e', 'k', 'z', 'a', 'b', 'c', 'd'])\n"
     ]
    }
   ],
   "source": [
    "# 데이터 확장(iterable + iterable) =>  extend, extendleft\n",
    "\n",
    "basedata = ['a','b','c','d']\n",
    " \n",
    "sampleData = ['z','k','e','r']\n",
    " \n",
    "print(\"extend example\")\n",
    " \n",
    "dequedata.extend(sampleData) # z, k, e, r 순서대로 오른쪽에 하나씩 붙여나감\n",
    " \n",
    "print(dequedata)\n",
    " \n",
    "dequedata = collections.deque(basedata) # deque 새로 생성\n",
    " \n",
    "dequedata.extendleft(sampleData) # z, k, e, r 순서대로 왼쪽에 하나씩 붙여나감\n",
    " \n",
    "print(dequedata)\n"
   ]
  },
  {
   "cell_type": "markdown",
   "metadata": {},
   "source": [
    "<hr>"
   ]
  },
  {
   "cell_type": "markdown",
   "metadata": {},
   "source": [
    "#### cf. append vs extend\n",
    "* list.append(x) : 리스트의 맨 마지막 요소로 x 1개 추가\n",
    "* list.extend(iterable) : 리스트 뒤쪽에 iterable을 이어 붙임"
   ]
  },
  {
   "cell_type": "code",
   "execution_count": 35,
   "metadata": {},
   "outputs": [
    {
     "name": "stdout",
     "output_type": "stream",
     "text": [
      "['a', 'b', 'c', ['d', 'e']]\n"
     ]
    }
   ],
   "source": [
    "x = ['a', 'b', 'c']\n",
    "y = ['d', 'e']\n",
    "\n",
    "x.append(y)\n",
    "\n",
    "print(x)"
   ]
  },
  {
   "cell_type": "code",
   "execution_count": 36,
   "metadata": {},
   "outputs": [
    {
     "name": "stdout",
     "output_type": "stream",
     "text": [
      "['a', 'b', 'c', 'd', 'e']\n"
     ]
    }
   ],
   "source": [
    "x = ['a', 'b', 'c']\n",
    "y = ['d', 'e']\n",
    "\n",
    "x.extend(y)\n",
    "\n",
    "print(x)"
   ]
  },
  {
   "cell_type": "markdown",
   "metadata": {},
   "source": [
    "<hr>"
   ]
  },
  {
   "cell_type": "code",
   "execution_count": 38,
   "metadata": {},
   "outputs": [
    {
     "name": "stdout",
     "output_type": "stream",
     "text": [
      "d\n",
      "deque(['a', 'b', 'c'])\n",
      "deque(['b', 'c'])\n"
     ]
    }
   ],
   "source": [
    "# 데이터 반환 => pop, popleft\n",
    "\n",
    "d = ['a', 'b', 'c', 'd']\n",
    "dd = collections.deque(d)\n",
    "\n",
    "print(dd.pop()) # 'd'\n",
    "print(dd) \n",
    "\n",
    "dd.popleft()\n",
    "print(dd)"
   ]
  },
  {
   "cell_type": "code",
   "execution_count": 39,
   "metadata": {},
   "outputs": [
    {
     "name": "stdout",
     "output_type": "stream",
     "text": [
      "deque(['b', 'c', 'd'])\n",
      "deque([])\n"
     ]
    }
   ],
   "source": [
    "# 데이터 삭제 => remove, clear\n",
    "\n",
    "d = ['a', 'b', 'c', 'd']\n",
    "dd = collections.deque(d)\n",
    "\n",
    "dd.remove('a') # remove : 인자로 넣은 데이터 삭제\n",
    "print(dd)\n",
    "\n",
    "dd.clear()\n",
    "print(dd)"
   ]
  },
  {
   "cell_type": "code",
   "execution_count": 41,
   "metadata": {},
   "outputs": [
    {
     "name": "stdout",
     "output_type": "stream",
     "text": [
      "deque(['d', 'c', 'b', 'a'])\n",
      "deque(['a', 'd', 'c', 'b'])\n",
      "deque(['c', 'b', 'a', 'd'])\n"
     ]
    }
   ],
   "source": [
    "# 데이터 위치 변경 => reverse, rotate\n",
    "\n",
    "d = ['a', 'b', 'c', 'd']\n",
    "dd = collections.deque(d)\n",
    "\n",
    "dd.reverse() # 역순으로 뒤집음\n",
    "print(dd)\n",
    "\n",
    "\n",
    "dd.rotate() # 오른쪽 방향으로 한번 회전(순회) => 가장 오른쪽 데이터가 가장 왼쪽에 붙음\n",
    "print(dd)\n",
    "\n",
    "dd.rotate(2) # 들어간 숫자만큼 회전\n",
    "print(dd)"
   ]
  }
 ],
 "metadata": {
  "kernelspec": {
   "display_name": "Python 3",
   "language": "python",
   "name": "python3"
  },
  "language_info": {
   "codemirror_mode": {
    "name": "ipython",
    "version": 3
   },
   "file_extension": ".py",
   "mimetype": "text/x-python",
   "name": "python",
   "nbconvert_exporter": "python",
   "pygments_lexer": "ipython3",
   "version": "3.8.5"
  }
 },
 "nbformat": 4,
 "nbformat_minor": 4
}
