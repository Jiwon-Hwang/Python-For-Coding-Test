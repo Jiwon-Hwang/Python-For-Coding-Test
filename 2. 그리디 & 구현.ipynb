{
 "cells": [
  {
   "cell_type": "markdown",
   "metadata": {},
   "source": [
    "## []"
   ]
  },
  {
   "cell_type": "markdown",
   "metadata": {},
   "source": [
    "### 그리디 알고리즘\n",
    "* 탐욕법 : 현재 상황에서 지금 당장 좋은 것만 고르는 방법\n",
    "* ex. 거스름돈 문제 : 500 -> 100 -> 50 -> 10원 단위로 가장 적은 동전 개수로 거슬러 주기\n",
    "> 최적의 해를 보장하는 이유 : 매번 큰 단위가 작은 단위의 배수이기 때문  \n",
    "* ex. 곱하기 or 더하기 문제 : 두 수 중 하나라도 1 이하(1 or 0)면 더하고, 둘 다 2 이상이면 곱하기\n",
    "> 이것도 최적의 해 보장! : 2 이상인 경우 더하기보단 곱하기가 더 큰 결과  "
   ]
  },
  {
   "cell_type": "markdown",
   "metadata": {},
   "source": [
    "### 구현\n",
    "* 구현 : 완전 탐색 or 시뮬레이션 문제\n",
    "    * 완전 탐색 : 모든 경우들을 다 체크해보기\n",
    "    * 시뮬레이션 : 일련의 명령에 따라 시키는대로 이동시키는 문제 등  \n",
    "      \n",
    "* in **구현** 문제 : dx, dy 리스트를 이용한 **방향 벡터** 자주 활용\n",
    "```py\n",
    "# 동, 북, 서, 남\n",
    "dx = [0, -1, 0, 1]\n",
    "dy = [1, 0, -1, 0]\n",
    "```\n",
    "```py\n",
    "# 현재 위치\n",
    "x, y = 2, 2\n",
    "```\n",
    "```py\n",
    "for i in range(4):\n",
    "    # 다음 위치\n",
    "    nx = x + dx[i]\n",
    "    ny = y + dy[i]\n",
    "```\n",
    "* ex. 시각 문제 : 24시간 모든 시각 중에서 3이 하나라도 포함되는 모든 경우의 수 구하기 => 가능한 전체 경우의 수 : 86400 => 따라서 완전 탐색 이용\n",
    "* ex. 지도(map) 이동 문제"
   ]
  }
 ],
 "metadata": {
  "kernelspec": {
   "display_name": "Python 3",
   "language": "python",
   "name": "python3"
  },
  "language_info": {
   "codemirror_mode": {
    "name": "ipython",
    "version": 3
   },
   "file_extension": ".py",
   "mimetype": "text/x-python",
   "name": "python",
   "nbconvert_exporter": "python",
   "pygments_lexer": "ipython3",
   "version": "3.8.5"
  }
 },
 "nbformat": 4,
 "nbformat_minor": 4
}
